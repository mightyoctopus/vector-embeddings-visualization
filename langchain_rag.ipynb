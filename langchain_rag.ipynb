{
 "cells": [
  {
   "cell_type": "code",
   "execution_count": null,
   "id": "809dfc19-6815-43db-82c1-0daf599dd12a",
   "metadata": {},
   "outputs": [],
   "source": [
    "!{sys.executable} -m pip install python-dotenv gradio langchain langchain-community langchain-openai langchain-chroma chromadb scikit-learn numpy plotly"
   ]
  },
  {
   "cell_type": "code",
   "execution_count": 1,
   "id": "befc05a5-26f5-4c3b-945c-8e9b404e4d89",
   "metadata": {},
   "outputs": [],
   "source": [
    "### Basic imports\n",
    "\n",
    "import os \n",
    "from dotenv import load_dotenv\n",
    "import glob \n",
    "import gradio as gr\n",
    "\n",
    "from typing import List"
   ]
  },
  {
   "cell_type": "code",
   "execution_count": 2,
   "id": "989b5f9d-461e-41e7-8464-d7046d92244c",
   "metadata": {},
   "outputs": [],
   "source": [
    "### Langchain, Chroma, plotly \n",
    "from langchain_community.document_loaders import DirectoryLoader, TextLoader\n",
    "from langchain.text_splitter import CharacterTextSplitter\n",
    "from langchain.schema import Document\n",
    "from langchain_openai import OpenAIEmbeddings, ChatOpenAI \n",
    "from langchain_chroma import Chroma \n",
    "import numpy as np \n",
    "from sklearn.manifold import TSNE \n",
    "import plotly.graph_objects as go"
   ]
  },
  {
   "cell_type": "code",
   "execution_count": 3,
   "id": "b26c5d45-7eed-420b-8bc1-bd5dd7c19d42",
   "metadata": {},
   "outputs": [],
   "source": [
    "OPENAI_MODEL_ID  = \"gpt-5-mini\"\n",
    "db_name = \"vector_db\""
   ]
  },
  {
   "cell_type": "code",
   "execution_count": 4,
   "id": "ec7400b1-dca6-4238-ab43-a1fc1a33e6e3",
   "metadata": {},
   "outputs": [],
   "source": [
    "load_dotenv()\n",
    "OPENAI_API_KEY = os.getenv(\"OPENAI_API_KEY\")"
   ]
  },
  {
   "cell_type": "code",
   "execution_count": 5,
   "id": "313eae93-0f44-4e2f-837c-64e4bddd42ca",
   "metadata": {},
   "outputs": [],
   "source": [
    "### Append doc_type on each document \n",
    "### with folder name as the value on each\n",
    "\n",
    "folders: List[str] = glob.glob(\"knowledge-base/*\")\n",
    "\n",
    "documents = []\n",
    "\n",
    "for folder in folders:\n",
    "    folder_name: str = os.path.basename(folder)\n",
    "    loader = DirectoryLoader(\n",
    "        path=folder,\n",
    "        glob=\"**/*.md\",\n",
    "        loader_cls=TextLoader,\n",
    "    )\n",
    "    docs = loader.load()\n",
    "    \n",
    "    for doc in docs:\n",
    "        doc.metadata[\"doc_type\"] = folder_name\n",
    "        documents.append(doc)    \n"
   ]
  },
  {
   "cell_type": "code",
   "execution_count": 6,
   "id": "ec133d61-ffdd-4fa0-a580-e4f08699ba4a",
   "metadata": {},
   "outputs": [
    {
     "data": {
      "text/plain": [
       "17"
      ]
     },
     "execution_count": 6,
     "metadata": {},
     "output_type": "execute_result"
    }
   ],
   "source": [
    "len(documents)"
   ]
  },
  {
   "cell_type": "code",
   "execution_count": 7,
   "id": "1a7159da-7c97-4a3a-b57f-43bf6e9d019c",
   "metadata": {},
   "outputs": [
    {
     "data": {
      "text/plain": [
       "Document(metadata={'source': 'knowledge-base/products/underwriteai.md', 'doc_type': 'products'}, page_content='# UnderwriteAI\\n\\nUnderwriteAI is an intelligent underwriting assistant designed for insurers and reinsurers.\\n\\n## Core Capabilities\\n- Automated risk scoring based on structured + unstructured data\\n- AI-powered document review (applications, medical records, financial statements)\\n- Adaptive pricing models with continuous learning\\n- Compliance-friendly audit trail\\n\\n## Benefits\\n- Faster onboarding of new policies\\n- Consistent risk assessments across underwriters\\n- Improved profitability through accurate pricing\\n\\n**Launch Year:** 2023  \\n**Target Market:** Life insurers, Reinsurers  \\n')"
      ]
     },
     "execution_count": 7,
     "metadata": {},
     "output_type": "execute_result"
    }
   ],
   "source": [
    "documents[2]"
   ]
  },
  {
   "cell_type": "code",
   "execution_count": 8,
   "id": "54ae0bca-a962-4418-8e2b-4c45ed483f2b",
   "metadata": {},
   "outputs": [
    {
     "data": {
      "text/plain": [
       "20"
      ]
     },
     "execution_count": 8,
     "metadata": {},
     "output_type": "execute_result"
    }
   ],
   "source": [
    "text_splitter = CharacterTextSplitter(chunk_size=1000, chunk_overlap=200)\n",
    "chunks = text_splitter.split_documents(documents)\n",
    "len(chunks)"
   ]
  },
  {
   "cell_type": "code",
   "execution_count": 9,
   "id": "dbf98c8e-7465-4b3c-a41c-ad66db10791e",
   "metadata": {},
   "outputs": [
    {
     "data": {
      "text/plain": [
       "Document(metadata={'source': 'knowledge-base/products/underwriteai.md', 'doc_type': 'products'}, page_content='# UnderwriteAI\\n\\nUnderwriteAI is an intelligent underwriting assistant designed for insurers and reinsurers.\\n\\n## Core Capabilities\\n- Automated risk scoring based on structured + unstructured data\\n- AI-powered document review (applications, medical records, financial statements)\\n- Adaptive pricing models with continuous learning\\n- Compliance-friendly audit trail\\n\\n## Benefits\\n- Faster onboarding of new policies\\n- Consistent risk assessments across underwriters\\n- Improved profitability through accurate pricing\\n\\n**Launch Year:** 2023  \\n**Target Market:** Life insurers, Reinsurers')"
      ]
     },
     "execution_count": 9,
     "metadata": {},
     "output_type": "execute_result"
    }
   ],
   "source": [
    "chunks[2]"
   ]
  },
  {
   "cell_type": "code",
   "execution_count": 10,
   "id": "d7fd6334-c1f2-47a3-8512-4a331b040d93",
   "metadata": {},
   "outputs": [
    {
     "name": "stdout",
     "output_type": "stream",
     "text": [
      "Document types found: employees, products, contracts, company\n"
     ]
    }
   ],
   "source": [
    "### Check the number of doc_types \n",
    "doc_type_kinds = set(chunk.metadata[\"doc_type\"] for chunk in chunks)\n",
    "print(f\"Document types found:\", \", \".join(doc_type_kinds))"
   ]
  },
  {
   "cell_type": "code",
   "execution_count": 11,
   "id": "9fb978af-33d8-4f40-92e1-28403ae96dc3",
   "metadata": {},
   "outputs": [
    {
     "name": "stdout",
     "output_type": "stream",
     "text": [
      "Chunk 0: No chunks found.\n",
      "Chunk 1: No chunks found.\n",
      "Chunk 2: page_content='# UnderwriteAI\n",
      "\n",
      "UnderwriteAI is an intelligent underwriting assistant designed for insurers and reinsurers.\n",
      "\n",
      "## Core Capabilities\n",
      "- Automated risk scoring based on structured + unstructured data\n",
      "- AI-powered document review (applications, medical records, financial statements)\n",
      "- Adaptive pricing models with continuous learning\n",
      "- Compliance-friendly audit trail\n",
      "\n",
      "## Benefits\n",
      "- Faster onboarding of new policies\n",
      "- Consistent risk assessments across underwriters\n",
      "- Improved profitability through accurate pricing\n",
      "\n",
      "**Launch Year:** 2023  \n",
      "**Target Market:** Life insurers, Reinsurers' metadata={'source': 'knowledge-base/products/underwriteai.md', 'doc_type': 'products'}\n",
      "Chunk 3: No chunks found.\n",
      "Chunk 4: No chunks found.\n",
      "Chunk 5: No chunks found.\n",
      "Chunk 6: No chunks found.\n",
      "Chunk 7: No chunks found.\n",
      "Chunk 8: No chunks found.\n",
      "Chunk 9: No chunks found.\n",
      "Chunk 10: No chunks found.\n",
      "Chunk 11: No chunks found.\n",
      "Chunk 12: No chunks found.\n",
      "Chunk 13: No chunks found.\n",
      "Chunk 14: No chunks found.\n",
      "Chunk 15: No chunks found.\n",
      "Chunk 16: No chunks found.\n",
      "Chunk 17: No chunks found.\n",
      "Chunk 18: No chunks found.\n",
      "Chunk 19: No chunks found.\n"
     ]
    }
   ],
   "source": [
    "### Check if a text mention match fetches the correcpond documents\n",
    "\n",
    "for i, chunk in enumerate(chunks): \n",
    "    if \"UnderwriteAI\" in chunk.page_content:\n",
    "        print(f\"Chunk {i}: {chunk}\")\n",
    "    else:\n",
    "        print(f\"Chunk {i}: No chunks found.\")"
   ]
  },
  {
   "cell_type": "code",
   "execution_count": 12,
   "id": "1740b1fb-9204-4da0-9195-09094ab98b3a",
   "metadata": {},
   "outputs": [],
   "source": [
    "### Embed (Vectorize) the text chunks\n",
    "embeddings = OpenAIEmbeddings(api_key=OPENAI_API_KEY)"
   ]
  },
  {
   "cell_type": "code",
   "execution_count": 13,
   "id": "ee3ab0e3-7565-4015-bc7b-2e0c335c6d97",
   "metadata": {},
   "outputs": [],
   "source": [
    "### Check if a Chroma Datastore already exists\n",
    "### If so, delete the DB collection to start from scratch \n",
    "\n",
    "if os.path.exists(db_name):\n",
    "    Chroma(\n",
    "        persist_directory=db_name, \n",
    "        embedding_function=embeddings,\n",
    "    ).delete_collection()"
   ]
  },
  {
   "cell_type": "code",
   "execution_count": 14,
   "id": "207e0b12-fc90-4745-b5b1-e211236b4f1a",
   "metadata": {},
   "outputs": [
    {
     "name": "stdout",
     "output_type": "stream",
     "text": [
      "Vectorstore created with 20 documents\n"
     ]
    }
   ],
   "source": [
    "### Create Chroma Database Store \n",
    "\n",
    "vectorstore = Chroma.from_documents(\n",
    "    documents=chunks,\n",
    "    persist_directory=db_name,\n",
    "    embedding=embeddings\n",
    ")\n",
    "\n",
    "### Check the number of embedded data\n",
    "print(f\"Vectorstore created with {vectorstore._collection.count()} documents\")"
   ]
  },
  {
   "cell_type": "code",
   "execution_count": 15,
   "id": "e875aec8-7d4a-4a36-b266-e3665cb6d9e2",
   "metadata": {},
   "outputs": [
    {
     "name": "stdout",
     "output_type": "stream",
     "text": [
      "The number of dimensions are:  1536\n",
      "[-0.02389047 -0.0276343   0.00978378 ... -0.03215921 -0.03092025\n",
      " -0.00604332]\n"
     ]
    }
   ],
   "source": [
    "### Get one vector and find how many demensions it has\n",
    "\n",
    "collection = vectorstore._collection\n",
    "sample_embedding = collection.get(limit=1, include=[\"embeddings\"])[\"embeddings\"][0]\n",
    "dimensions = len(sample_embedding)\n",
    "\n",
    "print(f\"The number of dimensions are: \", dimensions)\n",
    "print(sample_embedding)"
   ]
  },
  {
   "cell_type": "markdown",
   "id": "ebe04f10-7041-4698-b89a-00aaafca500e",
   "metadata": {},
   "source": [
    "## Visualizing the Vector Store\n"
   ]
  },
  {
   "cell_type": "code",
   "execution_count": 16,
   "id": "cef2eae3-b7d9-41f2-8f94-8f69816f33fd",
   "metadata": {},
   "outputs": [
    {
     "name": "stdout",
     "output_type": "stream",
     "text": [
      "['# BrokerConnect\\n\\nBrokerConnect is a digital collaboration hub for insurance brokers and carriers.\\n\\n## Key Features\\n- AI-driven policy comparison for clients\\n- Automated quote generation\\n- Smart CRM integration for lead management\\n- Secure messaging + document sharing between brokers and insurers\\n\\n## Benefits\\n- Increased broker productivity\\n- Better customer experience with faster quotes\\n- Stronger broker–carrier relationships\\n\\n**Launch Year:** 2025  \\n**Target Market:** Insurance brokers, MGAs (Managing General Agents)', '# ClaimWise\\n\\nClaimWise is InsureLLM’s AI-powered claims automation platform.\\n\\n## Key Features\\n- Automated document extraction from claim submissions\\n- Smart triage to route claims to the right adjuster\\n- Real-time fraud detection signals\\n- Seamless integration with insurer core systems (Guidewire, Duck Creek, custom APIs)\\n\\n## Benefits\\n- 60% faster claims processing\\n- Reduced manual errors\\n- Improved customer experience with instant claim updates\\n\\n**Launch Year:** 2024  \\n**Target Market:** Property & Casualty insurers, Health insurers', '# UnderwriteAI\\n\\nUnderwriteAI is an intelligent underwriting assistant designed for insurers and reinsurers.\\n\\n## Core Capabilities\\n- Automated risk scoring based on structured + unstructured data\\n- AI-powered document review (applications, medical records, financial statements)\\n- Adaptive pricing models with continuous learning\\n- Compliance-friendly audit trail\\n\\n## Benefits\\n- Faster onboarding of new policies\\n- Consistent risk assessments across underwriters\\n- Improved profitability through accurate pricing\\n\\n**Launch Year:** 2023  \\n**Target Market:** Life insurers, Reinsurers', '# Employee Contract\\n\\nKey terms for InsureLLM employees:\\n- **Work hours:** 40 hours/week, hybrid remote  \\n- **Benefits:** Health, dental, vision, and stock options  \\n- **Probation period:** 3 months  \\n- **Termination notice:** 30 days', \"# Non-Disclosure Agreement (NDA)\\n\\nAll employees, contractors, and business partners must sign an NDA before accessing InsureLLM's systems.  \\nThe NDA covers:\\n- Protection of confidential data\\n- Prohibition of unauthorized sharing\\n- Duration of confidentiality: 3 years after termination\", '# Partnership Agreement\\n\\nInsureLLM collaborates with insurance carriers, brokers, and technology vendors.  \\nPartnerships include:\\n- Technology integrations\\n- Joint product development\\n- Shared marketing initiatives', '# Contract Agreement\\n\\n**This Contract Agreement (\"Agreement\") is entered into on [Date] by and between:**\\n\\n- **Party A**: [Full Legal Name], [Company/Organization Name], [Address]  \\n- **Party B**: [Full Legal Name], [Company/Organization Name], [Address]  \\n\\nCollectively referred to as the \"Parties.\"\\n\\n---\\n\\n## 1. Purpose\\nThis Agreement outlines the terms and conditions under which Party A and Party B agree to [state the purpose, e.g., provide development services, deliver products, enter into partnership].\\n\\n---\\n\\n## 2. Scope of Work\\n- Party A agrees to:  \\n  - [List obligations]  \\n- Party B agrees to:  \\n  - [List obligations]  \\n\\n---\\n\\n## 3. Term\\nThis Agreement shall commence on [Start Date] and remain in effect until [End Date] or until terminated as outlined in Section 9.\\n\\n---\\n\\n## 4. Payment Terms\\n- Total Fee: [Amount in USD or local currency]  \\n- Payment Schedule: [e.g., 50% upfront, 50% upon completion]  \\n- Payment Method: [Bank transfer, PayPal, etc.]  \\n\\n---', '---\\n\\n## 4. Payment Terms\\n- Total Fee: [Amount in USD or local currency]  \\n- Payment Schedule: [e.g., 50% upfront, 50% upon completion]  \\n- Payment Method: [Bank transfer, PayPal, etc.]  \\n\\n---\\n\\n## 5. Confidentiality\\nBoth Parties agree to maintain confidentiality of all proprietary or sensitive information shared during the term of this Agreement.\\n\\n---\\n\\n## 6. Intellectual Property\\n- [Specify who retains ownership of deliverables, source code, designs, or other IP].  \\n- Unless otherwise agreed, all intellectual property created under this Agreement belongs to [Party A/Party B].\\n\\n---\\n\\n## 7. Liability\\nNeither Party shall be liable for indirect or consequential damages. Direct damages, if any, shall not exceed the total amount paid under this Agreement.\\n\\n---', '---\\n\\n## 7. Liability\\nNeither Party shall be liable for indirect or consequential damages. Direct damages, if any, shall not exceed the total amount paid under this Agreement.\\n\\n---\\n\\n## 8. Dispute Resolution\\nIn the event of a dispute:  \\n- The Parties shall first attempt to resolve it amicably through good faith negotiations.  \\n- If unresolved, the dispute will be subject to the laws and jurisdiction of [State/Country].  \\n\\n---\\n\\n## 9. Termination\\nThis Agreement may be terminated:  \\n- By either Party with [number] days written notice.  \\n- Immediately, if either Party breaches a material obligation of this Agreement.  \\n\\n---\\n\\n## 10. Entire Agreement\\nThis Agreement constitutes the entire understanding between the Parties and supersedes all prior discussions or agreements.\\n\\n---\\n\\n## 11. Signatures\\nBy signing below, the Parties agree to the terms and conditions of this Agreement.  \\n\\n**Party A Signature:** ________________________ Date: _________', '---\\n\\n## 11. Signatures\\nBy signing below, the Parties agree to the terms and conditions of this Agreement.  \\n\\n**Party A Signature:** ________________________ Date: _________  \\n\\n**Party B Signature:** ________________________ Date: _________', '# Company Overview\\n\\n- **Founded:** 2023  \\n- **Headquarters:** Seoul, South Korea  \\n- **Employees:** 25 and growing  \\n- **Focus:** AI-powered insurance solutions  \\n- **Flagship Product:** PolicyBot (AI knowledge worker for insurance)  \\n\\nWe partner with leading insurers to integrate cutting-edge AI into existing workflows.', '# Careers at InsureLLM\\n\\nAt InsureLLM, we believe that insurance should be fair, fast, and personalized.  \\n\\nWe are always looking for talented individuals in:\\n- AI/ML engineering\\n- Backend development\\n- Insurance operations\\n- Customer success  \\n\\nWe offer flexible work arrangements, continuous learning opportunities, and a mission-driven culture.', '# About InsureLLM\\n\\nInsureLLM is an insurance technology startup founded in 2023 with a mission to make insurance more transparent and accessible.  \\nWe specialize in building AI-driven solutions that simplify claims processing, risk assessment, and customer support.  \\n\\nOur vision is to empower businesses and individuals with intelligent insurance services that adapt to their needs.', '# David Lee\\n\\n**Position:** Chief Technology Officer (CTO)  \\n**Email:** david.lee@insurellm.com  \\n**Phone:** +82-10-3456-7890  \\n**Office Location:** Seoul Headquarters  \\n\\nDavid oversees technology strategy and product development at InsureLLM. He specializes in machine learning, data architecture, and scaling AI-powered platforms.', '# Sophia Park\\n\\n**Position:** Head of Product  \\n**Email:** sophia.park@insurellm.com  \\n**Phone:** +82-10-5678-1234  \\n**Office Location:** Seoul Headquarters  \\n\\nSophia manages product strategy and design, ensuring that InsureLLM’s tools solve real customer problems in insurance operations and claims management.', '# Grace Han\\n\\n**Position:** Operations Manager  \\n**Email:** grace.han@insurellm.com  \\n**Phone:** +82-10-9012-5678  \\n**Office Location:** Seoul Headquarters  \\n\\nGrace handles day-to-day operations, HR, and compliance at InsureLLM. She ensures smooth collaboration across teams and supports company growth initiatives.', '# James Choi\\n\\n**Position:** Lead Engineer  \\n**Email:** james.choi@insurellm.com  \\n**Phone:** +82-10-6789-2345  \\n**Office Location:** Seoul Headquarters  \\n\\nJames leads the engineering team responsible for backend services and API integrations. He has expertise in Python, Go, and distributed systems.', '# Ethan Woo\\n\\n**Position:** Senior Data Scientist  \\n**Email:** ethan.woo@insurellm.com  \\n**Phone:** +82-10-8901-4567  \\n**Office Location:** Seoul Headquarters  \\n\\nEthan develops predictive models for underwriting and claims automation. His background is in actuarial science and applied machine learning.', '# Alice Kim\\n\\n**Position:** Chief Executive Officer (CEO)  \\n**Email:** alice.kim@insurellm.com  \\n**Phone:** +82-10-2345-6789  \\n**Office Location:** Seoul Headquarters  \\n\\nAlice is the co-founder and CEO of InsureLLM. She has over 15 years of experience in insurance technology and leads the company’s strategic vision and partnerships.', '# Mina Jung\\n\\n**Position:** Customer Success Manager  \\n**Email:** mina.jung@insurellm.com  \\n**Phone:** +82-10-7890-3456  \\n**Office Location:** Seoul Headquarters  \\n\\nMina works closely with clients to implement InsureLLM’s products and ensure adoption success. She also manages training and support for enterprise partners.']\n"
     ]
    }
   ],
   "source": [
    "### Pre-work\n",
    "\n",
    "result = collection.get(include=[\"embeddings\", \"documents\", \"metadatas\"])\n",
    "vectors = np.array(result[\"embeddings\"])\n",
    "documents = result[\"documents\"]\n",
    "doc_types = [metadata[\"doc_type\"] for metadata in result[\"metadatas\"]]\n",
    "color_map = {\n",
    "    \"products\": \"blue\",\n",
    "    \"employees\": \"green\", \n",
    "    \"contracts\": \"red\", \n",
    "    \"company\": \"orange\"\n",
    "} \n",
    "\n",
    "colors = [color_map[t] for t in doc_types]\n",
    "print(documents)"
   ]
  },
  {
   "cell_type": "code",
   "execution_count": 19,
   "id": "c4323fb2-dfb7-45c4-b5e8-3f36b317f2f9",
   "metadata": {},
   "outputs": [
    {
     "data": {
      "text/html": [
       "        <script type=\"text/javascript\">\n",
       "        window.PlotlyConfig = {MathJaxConfig: 'local'};\n",
       "        if (window.MathJax && window.MathJax.Hub && window.MathJax.Hub.Config) {window.MathJax.Hub.Config({SVG: {font: \"STIX-Web\"}});}\n",
       "        </script>\n",
       "        <script type=\"module\">import \"https://cdn.plot.ly/plotly-3.1.0.min\"</script>\n",
       "        "
      ]
     },
     "metadata": {},
     "output_type": "display_data"
    },
    {
     "data": {
      "text/html": [
       "<div>            <script src=\"https://cdnjs.cloudflare.com/ajax/libs/mathjax/2.7.5/MathJax.js?config=TeX-AMS-MML_SVG\"></script><script type=\"text/javascript\">if (window.MathJax && window.MathJax.Hub && window.MathJax.Hub.Config) {window.MathJax.Hub.Config({SVG: {font: \"STIX-Web\"}});}</script>                <script type=\"text/javascript\">window.PlotlyConfig = {MathJaxConfig: 'local'};</script>\n",
       "        <script charset=\"utf-8\" src=\"https://cdn.plot.ly/plotly-3.1.0.min.js\" integrity=\"sha256-Ei4740bWZhaUTQuD6q9yQlgVCMPBz6CZWhevDYPv93A=\" crossorigin=\"anonymous\"></script>                <div id=\"928d4ed2-6d0d-429d-be21-e97c6d6ec457\" class=\"plotly-graph-div\" style=\"height:700px; width:900px;\"></div>            <script type=\"text/javascript\">                window.PLOTLYENV=window.PLOTLYENV || {};                                if (document.getElementById(\"928d4ed2-6d0d-429d-be21-e97c6d6ec457\")) {                    Plotly.newPlot(                        \"928d4ed2-6d0d-429d-be21-e97c6d6ec457\",                        [{\"hoverinfo\":\"text\",\"marker\":{\"color\":[\"blue\",\"blue\",\"blue\",\"red\",\"red\",\"red\",\"red\",\"red\",\"red\",\"red\",\"orange\",\"orange\",\"orange\",\"green\",\"green\",\"green\",\"green\",\"green\",\"green\",\"green\"],\"opacity\":0.8,\"size\":5},\"mode\":\"markers\",\"text\":[\"Type: products\\u003cbr\\u003eText: # BrokerConnect\\n\\nBrokerConnect is a digital collaboration hub for insurance brokers and carriers.\\n\\n#...\",\"Type: products\\u003cbr\\u003eText: # ClaimWise\\n\\nClaimWise is InsureLLM’s AI-powered claims automation platform.\\n\\n## Key Features\\n- Auto...\",\"Type: products\\u003cbr\\u003eText: # UnderwriteAI\\n\\nUnderwriteAI is an intelligent underwriting assistant designed for insurers and rein...\",\"Type: contracts\\u003cbr\\u003eText: # Employee Contract\\n\\nKey terms for InsureLLM employees:\\n- **Work hours:** 40 hours\\u002fweek, hybrid remo...\",\"Type: contracts\\u003cbr\\u003eText: # Non-Disclosure Agreement (NDA)\\n\\nAll employees, contractors, and business partners must sign an NDA...\",\"Type: contracts\\u003cbr\\u003eText: # Partnership Agreement\\n\\nInsureLLM collaborates with insurance carriers, brokers, and technology ven...\",\"Type: contracts\\u003cbr\\u003eText: # Contract Agreement\\n\\n**This Contract Agreement (\\\"Agreement\\\") is entered into on [Date] by and betwe...\",\"Type: contracts\\u003cbr\\u003eText: ---\\n\\n## 4. Payment Terms\\n- Total Fee: [Amount in USD or local currency]  \\n- Payment Schedule: [e.g.,...\",\"Type: contracts\\u003cbr\\u003eText: ---\\n\\n## 7. Liability\\nNeither Party shall be liable for indirect or consequential damages. Direct dam...\",\"Type: contracts\\u003cbr\\u003eText: ---\\n\\n## 11. Signatures\\nBy signing below, the Parties agree to the terms and conditions of this Agree...\",\"Type: company\\u003cbr\\u003eText: # Company Overview\\n\\n- **Founded:** 2023  \\n- **Headquarters:** Seoul, South Korea  \\n- **Employees:** ...\",\"Type: company\\u003cbr\\u003eText: # Careers at InsureLLM\\n\\nAt InsureLLM, we believe that insurance should be fair, fast, and personaliz...\",\"Type: company\\u003cbr\\u003eText: # About InsureLLM\\n\\nInsureLLM is an insurance technology startup founded in 2023 with a mission to ma...\",\"Type: employees\\u003cbr\\u003eText: # David Lee\\n\\n**Position:** Chief Technology Officer (CTO)  \\n**Email:** david.lee@insurellm.com  \\n**P...\",\"Type: employees\\u003cbr\\u003eText: # Sophia Park\\n\\n**Position:** Head of Product  \\n**Email:** sophia.park@insurellm.com  \\n**Phone:** +82...\",\"Type: employees\\u003cbr\\u003eText: # Grace Han\\n\\n**Position:** Operations Manager  \\n**Email:** grace.han@insurellm.com  \\n**Phone:** +82-...\",\"Type: employees\\u003cbr\\u003eText: # James Choi\\n\\n**Position:** Lead Engineer  \\n**Email:** james.choi@insurellm.com  \\n**Phone:** +82-10-...\",\"Type: employees\\u003cbr\\u003eText: # Ethan Woo\\n\\n**Position:** Senior Data Scientist  \\n**Email:** ethan.woo@insurellm.com  \\n**Phone:** +...\",\"Type: employees\\u003cbr\\u003eText: # Alice Kim\\n\\n**Position:** Chief Executive Officer (CEO)  \\n**Email:** alice.kim@insurellm.com  \\n**Ph...\",\"Type: employees\\u003cbr\\u003eText: # Mina Jung\\n\\n**Position:** Customer Success Manager  \\n**Email:** mina.jung@insurellm.com  \\n**Phone:*...\"],\"x\":{\"dtype\":\"f4\",\"bdata\":\"YnZLwVBFrcEA5LnBguAdP73H1cCdxkrB9uaWwXDklMEgvDDBAXsawTWjgMFjJirAmKsYwYxsl0FM1CBBw0nfPy4dzEGWE8tB220oQU9G1kA=\"},\"y\":{\"dtype\":\"f4\",\"bdata\":\"MKEXQUJ7f0BdJTZBl1y9wbIL08EadoDBGOeJwqEBcsKGWoDCGhqPwh8Do0GCVRHB0QoMwQ3K\\u002fkH7uR5CJHwcQoFO3EGBhh9CTSv\\u002fQVjVQEI=\"},\"type\":\"scatter\"}],                        {\"template\":{\"data\":{\"histogram2dcontour\":[{\"type\":\"histogram2dcontour\",\"colorbar\":{\"outlinewidth\":0,\"ticks\":\"\"},\"colorscale\":[[0.0,\"#0d0887\"],[0.1111111111111111,\"#46039f\"],[0.2222222222222222,\"#7201a8\"],[0.3333333333333333,\"#9c179e\"],[0.4444444444444444,\"#bd3786\"],[0.5555555555555556,\"#d8576b\"],[0.6666666666666666,\"#ed7953\"],[0.7777777777777778,\"#fb9f3a\"],[0.8888888888888888,\"#fdca26\"],[1.0,\"#f0f921\"]]}],\"choropleth\":[{\"type\":\"choropleth\",\"colorbar\":{\"outlinewidth\":0,\"ticks\":\"\"}}],\"histogram2d\":[{\"type\":\"histogram2d\",\"colorbar\":{\"outlinewidth\":0,\"ticks\":\"\"},\"colorscale\":[[0.0,\"#0d0887\"],[0.1111111111111111,\"#46039f\"],[0.2222222222222222,\"#7201a8\"],[0.3333333333333333,\"#9c179e\"],[0.4444444444444444,\"#bd3786\"],[0.5555555555555556,\"#d8576b\"],[0.6666666666666666,\"#ed7953\"],[0.7777777777777778,\"#fb9f3a\"],[0.8888888888888888,\"#fdca26\"],[1.0,\"#f0f921\"]]}],\"heatmap\":[{\"type\":\"heatmap\",\"colorbar\":{\"outlinewidth\":0,\"ticks\":\"\"},\"colorscale\":[[0.0,\"#0d0887\"],[0.1111111111111111,\"#46039f\"],[0.2222222222222222,\"#7201a8\"],[0.3333333333333333,\"#9c179e\"],[0.4444444444444444,\"#bd3786\"],[0.5555555555555556,\"#d8576b\"],[0.6666666666666666,\"#ed7953\"],[0.7777777777777778,\"#fb9f3a\"],[0.8888888888888888,\"#fdca26\"],[1.0,\"#f0f921\"]]}],\"contourcarpet\":[{\"type\":\"contourcarpet\",\"colorbar\":{\"outlinewidth\":0,\"ticks\":\"\"}}],\"contour\":[{\"type\":\"contour\",\"colorbar\":{\"outlinewidth\":0,\"ticks\":\"\"},\"colorscale\":[[0.0,\"#0d0887\"],[0.1111111111111111,\"#46039f\"],[0.2222222222222222,\"#7201a8\"],[0.3333333333333333,\"#9c179e\"],[0.4444444444444444,\"#bd3786\"],[0.5555555555555556,\"#d8576b\"],[0.6666666666666666,\"#ed7953\"],[0.7777777777777778,\"#fb9f3a\"],[0.8888888888888888,\"#fdca26\"],[1.0,\"#f0f921\"]]}],\"surface\":[{\"type\":\"surface\",\"colorbar\":{\"outlinewidth\":0,\"ticks\":\"\"},\"colorscale\":[[0.0,\"#0d0887\"],[0.1111111111111111,\"#46039f\"],[0.2222222222222222,\"#7201a8\"],[0.3333333333333333,\"#9c179e\"],[0.4444444444444444,\"#bd3786\"],[0.5555555555555556,\"#d8576b\"],[0.6666666666666666,\"#ed7953\"],[0.7777777777777778,\"#fb9f3a\"],[0.8888888888888888,\"#fdca26\"],[1.0,\"#f0f921\"]]}],\"mesh3d\":[{\"type\":\"mesh3d\",\"colorbar\":{\"outlinewidth\":0,\"ticks\":\"\"}}],\"scatter\":[{\"fillpattern\":{\"fillmode\":\"overlay\",\"size\":10,\"solidity\":0.2},\"type\":\"scatter\"}],\"parcoords\":[{\"type\":\"parcoords\",\"line\":{\"colorbar\":{\"outlinewidth\":0,\"ticks\":\"\"}}}],\"scatterpolargl\":[{\"type\":\"scatterpolargl\",\"marker\":{\"colorbar\":{\"outlinewidth\":0,\"ticks\":\"\"}}}],\"bar\":[{\"error_x\":{\"color\":\"#2a3f5f\"},\"error_y\":{\"color\":\"#2a3f5f\"},\"marker\":{\"line\":{\"color\":\"#E5ECF6\",\"width\":0.5},\"pattern\":{\"fillmode\":\"overlay\",\"size\":10,\"solidity\":0.2}},\"type\":\"bar\"}],\"scattergeo\":[{\"type\":\"scattergeo\",\"marker\":{\"colorbar\":{\"outlinewidth\":0,\"ticks\":\"\"}}}],\"scatterpolar\":[{\"type\":\"scatterpolar\",\"marker\":{\"colorbar\":{\"outlinewidth\":0,\"ticks\":\"\"}}}],\"histogram\":[{\"marker\":{\"pattern\":{\"fillmode\":\"overlay\",\"size\":10,\"solidity\":0.2}},\"type\":\"histogram\"}],\"scattergl\":[{\"type\":\"scattergl\",\"marker\":{\"colorbar\":{\"outlinewidth\":0,\"ticks\":\"\"}}}],\"scatter3d\":[{\"type\":\"scatter3d\",\"line\":{\"colorbar\":{\"outlinewidth\":0,\"ticks\":\"\"}},\"marker\":{\"colorbar\":{\"outlinewidth\":0,\"ticks\":\"\"}}}],\"scattermap\":[{\"type\":\"scattermap\",\"marker\":{\"colorbar\":{\"outlinewidth\":0,\"ticks\":\"\"}}}],\"scattermapbox\":[{\"type\":\"scattermapbox\",\"marker\":{\"colorbar\":{\"outlinewidth\":0,\"ticks\":\"\"}}}],\"scatterternary\":[{\"type\":\"scatterternary\",\"marker\":{\"colorbar\":{\"outlinewidth\":0,\"ticks\":\"\"}}}],\"scattercarpet\":[{\"type\":\"scattercarpet\",\"marker\":{\"colorbar\":{\"outlinewidth\":0,\"ticks\":\"\"}}}],\"carpet\":[{\"aaxis\":{\"endlinecolor\":\"#2a3f5f\",\"gridcolor\":\"white\",\"linecolor\":\"white\",\"minorgridcolor\":\"white\",\"startlinecolor\":\"#2a3f5f\"},\"baxis\":{\"endlinecolor\":\"#2a3f5f\",\"gridcolor\":\"white\",\"linecolor\":\"white\",\"minorgridcolor\":\"white\",\"startlinecolor\":\"#2a3f5f\"},\"type\":\"carpet\"}],\"table\":[{\"cells\":{\"fill\":{\"color\":\"#EBF0F8\"},\"line\":{\"color\":\"white\"}},\"header\":{\"fill\":{\"color\":\"#C8D4E3\"},\"line\":{\"color\":\"white\"}},\"type\":\"table\"}],\"barpolar\":[{\"marker\":{\"line\":{\"color\":\"#E5ECF6\",\"width\":0.5},\"pattern\":{\"fillmode\":\"overlay\",\"size\":10,\"solidity\":0.2}},\"type\":\"barpolar\"}],\"pie\":[{\"automargin\":true,\"type\":\"pie\"}]},\"layout\":{\"autotypenumbers\":\"strict\",\"colorway\":[\"#636efa\",\"#EF553B\",\"#00cc96\",\"#ab63fa\",\"#FFA15A\",\"#19d3f3\",\"#FF6692\",\"#B6E880\",\"#FF97FF\",\"#FECB52\"],\"font\":{\"color\":\"#2a3f5f\"},\"hovermode\":\"closest\",\"hoverlabel\":{\"align\":\"left\"},\"paper_bgcolor\":\"white\",\"plot_bgcolor\":\"#E5ECF6\",\"polar\":{\"bgcolor\":\"#E5ECF6\",\"angularaxis\":{\"gridcolor\":\"white\",\"linecolor\":\"white\",\"ticks\":\"\"},\"radialaxis\":{\"gridcolor\":\"white\",\"linecolor\":\"white\",\"ticks\":\"\"}},\"ternary\":{\"bgcolor\":\"#E5ECF6\",\"aaxis\":{\"gridcolor\":\"white\",\"linecolor\":\"white\",\"ticks\":\"\"},\"baxis\":{\"gridcolor\":\"white\",\"linecolor\":\"white\",\"ticks\":\"\"},\"caxis\":{\"gridcolor\":\"white\",\"linecolor\":\"white\",\"ticks\":\"\"}},\"coloraxis\":{\"colorbar\":{\"outlinewidth\":0,\"ticks\":\"\"}},\"colorscale\":{\"sequential\":[[0.0,\"#0d0887\"],[0.1111111111111111,\"#46039f\"],[0.2222222222222222,\"#7201a8\"],[0.3333333333333333,\"#9c179e\"],[0.4444444444444444,\"#bd3786\"],[0.5555555555555556,\"#d8576b\"],[0.6666666666666666,\"#ed7953\"],[0.7777777777777778,\"#fb9f3a\"],[0.8888888888888888,\"#fdca26\"],[1.0,\"#f0f921\"]],\"sequentialminus\":[[0.0,\"#0d0887\"],[0.1111111111111111,\"#46039f\"],[0.2222222222222222,\"#7201a8\"],[0.3333333333333333,\"#9c179e\"],[0.4444444444444444,\"#bd3786\"],[0.5555555555555556,\"#d8576b\"],[0.6666666666666666,\"#ed7953\"],[0.7777777777777778,\"#fb9f3a\"],[0.8888888888888888,\"#fdca26\"],[1.0,\"#f0f921\"]],\"diverging\":[[0,\"#8e0152\"],[0.1,\"#c51b7d\"],[0.2,\"#de77ae\"],[0.3,\"#f1b6da\"],[0.4,\"#fde0ef\"],[0.5,\"#f7f7f7\"],[0.6,\"#e6f5d0\"],[0.7,\"#b8e186\"],[0.8,\"#7fbc41\"],[0.9,\"#4d9221\"],[1,\"#276419\"]]},\"xaxis\":{\"gridcolor\":\"white\",\"linecolor\":\"white\",\"ticks\":\"\",\"title\":{\"standoff\":15},\"zerolinecolor\":\"white\",\"automargin\":true,\"zerolinewidth\":2},\"yaxis\":{\"gridcolor\":\"white\",\"linecolor\":\"white\",\"ticks\":\"\",\"title\":{\"standoff\":15},\"zerolinecolor\":\"white\",\"automargin\":true,\"zerolinewidth\":2},\"scene\":{\"xaxis\":{\"backgroundcolor\":\"#E5ECF6\",\"gridcolor\":\"white\",\"linecolor\":\"white\",\"showbackground\":true,\"ticks\":\"\",\"zerolinecolor\":\"white\",\"gridwidth\":2},\"yaxis\":{\"backgroundcolor\":\"#E5ECF6\",\"gridcolor\":\"white\",\"linecolor\":\"white\",\"showbackground\":true,\"ticks\":\"\",\"zerolinecolor\":\"white\",\"gridwidth\":2},\"zaxis\":{\"backgroundcolor\":\"#E5ECF6\",\"gridcolor\":\"white\",\"linecolor\":\"white\",\"showbackground\":true,\"ticks\":\"\",\"zerolinecolor\":\"white\",\"gridwidth\":2}},\"shapedefaults\":{\"line\":{\"color\":\"#2a3f5f\"}},\"annotationdefaults\":{\"arrowcolor\":\"#2a3f5f\",\"arrowhead\":0,\"arrowwidth\":1},\"geo\":{\"bgcolor\":\"white\",\"landcolor\":\"#E5ECF6\",\"subunitcolor\":\"white\",\"showland\":true,\"showlakes\":true,\"lakecolor\":\"white\"},\"title\":{\"x\":0.05},\"mapbox\":{\"style\":\"light\"}}},\"margin\":{\"r\":20,\"b\":10,\"l\":10,\"t\":40},\"title\":{\"text\":\"2D Chroma Vector Store Visualization\"},\"xaxis\":{\"title\":{\"text\":\"x\"}},\"yaxis\":{\"title\":{\"text\":\"y\"}},\"width\":900,\"height\":700},                        {\"responsive\": true}                    ).then(function(){\n",
       "                            \n",
       "var gd = document.getElementById('928d4ed2-6d0d-429d-be21-e97c6d6ec457');\n",
       "var x = new MutationObserver(function (mutations, observer) {{\n",
       "        var display = window.getComputedStyle(gd).display;\n",
       "        if (!display || display === 'none') {{\n",
       "            console.log([gd, 'removed!']);\n",
       "            Plotly.purge(gd);\n",
       "            observer.disconnect();\n",
       "        }}\n",
       "}});\n",
       "\n",
       "// Listen for the removal of the full notebook cells\n",
       "var notebookContainer = gd.closest('#notebook-container');\n",
       "if (notebookContainer) {{\n",
       "    x.observe(notebookContainer, {childList: true});\n",
       "}}\n",
       "\n",
       "// Listen for the clearing of the current output cell\n",
       "var outputEl = gd.closest('.output');\n",
       "if (outputEl) {{\n",
       "    x.observe(outputEl, {childList: true});\n",
       "}}\n",
       "\n",
       "                        })                };            </script>        </div>"
      ]
     },
     "metadata": {},
     "output_type": "display_data"
    }
   ],
   "source": [
    "import plotly.io as pio\n",
    "pio.renderers.default = \"notebook_connected\"\n",
    "\n",
    "tsne = TSNE(n_components=2, random_state=42, perplexity=5)\n",
    "reduced_vector = tsne.fit_transform(vectors)\n",
    "\n",
    "### Create a 2D scatter plot\n",
    "fig = go.Figure(data=[go.Scatter(\n",
    "    x=reduced_vector[:, 0],\n",
    "    y=reduced_vector[:, 1], \n",
    "    mode=\"markers\", \n",
    "    marker=dict(size=5, color=colors, opacity=0.8), \n",
    "    text=[f\"Type: {t}<br>Text: {d[:100]}...\" for t, d in zip(doc_types, documents)], \n",
    "    hoverinfo=\"text\"\n",
    ")])\n",
    "\n",
    "fig.update_layout(\n",
    "    title=\"2D Chroma Vector Store Visualization\", \n",
    "    xaxis_title=\"x\", \n",
    "    yaxis_title=\"y\", \n",
    "    width=900, \n",
    "    height=700,\n",
    "    margin=dict(r=20, b=10, l=10, t=40) \n",
    ")\n",
    "\n",
    "fig.show()"
   ]
  },
  {
   "cell_type": "markdown",
   "id": "aec0ff46-e5c4-49e9-927a-d0ad03c01b05",
   "metadata": {},
   "source": [
    "## 3D Visualization of Vectors"
   ]
  },
  {
   "cell_type": "code",
   "execution_count": 18,
   "id": "8a340484-4f66-4c4b-9400-c172e5ddcdf4",
   "metadata": {},
   "outputs": [
    {
     "data": {
      "text/html": [
       "<div>            <script src=\"https://cdnjs.cloudflare.com/ajax/libs/mathjax/2.7.5/MathJax.js?config=TeX-AMS-MML_SVG\"></script><script type=\"text/javascript\">if (window.MathJax && window.MathJax.Hub && window.MathJax.Hub.Config) {window.MathJax.Hub.Config({SVG: {font: \"STIX-Web\"}});}</script>                <script type=\"text/javascript\">window.PlotlyConfig = {MathJaxConfig: 'local'};</script>\n",
       "        <script charset=\"utf-8\" src=\"https://cdn.plot.ly/plotly-3.1.0.min.js\" integrity=\"sha256-Ei4740bWZhaUTQuD6q9yQlgVCMPBz6CZWhevDYPv93A=\" crossorigin=\"anonymous\"></script>                <div id=\"40299c16-7831-4723-adfb-6802b4935034\" class=\"plotly-graph-div\" style=\"height:700px; width:900px;\"></div>            <script type=\"text/javascript\">                window.PLOTLYENV=window.PLOTLYENV || {};                                if (document.getElementById(\"40299c16-7831-4723-adfb-6802b4935034\")) {                    Plotly.newPlot(                        \"40299c16-7831-4723-adfb-6802b4935034\",                        [{\"hoverinfo\":\"text\",\"marker\":{\"color\":[\"blue\",\"blue\",\"blue\",\"red\",\"red\",\"red\",\"red\",\"red\",\"red\",\"red\",\"orange\",\"orange\",\"orange\",\"green\",\"green\",\"green\",\"green\",\"green\",\"green\",\"green\"],\"opacity\":0.8,\"size\":5},\"mode\":\"markers\",\"text\":[\"Type: products\\u003cbr\\u003eText: # BrokerConnect\\n\\nBrokerConnect is a digital collaboration hub for insurance brokers and carriers.\\n\\n#...\",\"Type: products\\u003cbr\\u003eText: # ClaimWise\\n\\nClaimWise is InsureLLM’s AI-powered claims automation platform.\\n\\n## Key Features\\n- Auto...\",\"Type: products\\u003cbr\\u003eText: # UnderwriteAI\\n\\nUnderwriteAI is an intelligent underwriting assistant designed for insurers and rein...\",\"Type: contracts\\u003cbr\\u003eText: # Employee Contract\\n\\nKey terms for InsureLLM employees:\\n- **Work hours:** 40 hours\\u002fweek, hybrid remo...\",\"Type: contracts\\u003cbr\\u003eText: # Non-Disclosure Agreement (NDA)\\n\\nAll employees, contractors, and business partners must sign an NDA...\",\"Type: contracts\\u003cbr\\u003eText: # Partnership Agreement\\n\\nInsureLLM collaborates with insurance carriers, brokers, and technology ven...\",\"Type: contracts\\u003cbr\\u003eText: # Contract Agreement\\n\\n**This Contract Agreement (\\\"Agreement\\\") is entered into on [Date] by and betwe...\",\"Type: contracts\\u003cbr\\u003eText: ---\\n\\n## 4. Payment Terms\\n- Total Fee: [Amount in USD or local currency]  \\n- Payment Schedule: [e.g.,...\",\"Type: contracts\\u003cbr\\u003eText: ---\\n\\n## 7. Liability\\nNeither Party shall be liable for indirect or consequential damages. Direct dam...\",\"Type: contracts\\u003cbr\\u003eText: ---\\n\\n## 11. Signatures\\nBy signing below, the Parties agree to the terms and conditions of this Agree...\",\"Type: company\\u003cbr\\u003eText: # Company Overview\\n\\n- **Founded:** 2023  \\n- **Headquarters:** Seoul, South Korea  \\n- **Employees:** ...\",\"Type: company\\u003cbr\\u003eText: # Careers at InsureLLM\\n\\nAt InsureLLM, we believe that insurance should be fair, fast, and personaliz...\",\"Type: company\\u003cbr\\u003eText: # About InsureLLM\\n\\nInsureLLM is an insurance technology startup founded in 2023 with a mission to ma...\",\"Type: employees\\u003cbr\\u003eText: # David Lee\\n\\n**Position:** Chief Technology Officer (CTO)  \\n**Email:** david.lee@insurellm.com  \\n**P...\",\"Type: employees\\u003cbr\\u003eText: # Sophia Park\\n\\n**Position:** Head of Product  \\n**Email:** sophia.park@insurellm.com  \\n**Phone:** +82...\",\"Type: employees\\u003cbr\\u003eText: # Grace Han\\n\\n**Position:** Operations Manager  \\n**Email:** grace.han@insurellm.com  \\n**Phone:** +82-...\",\"Type: employees\\u003cbr\\u003eText: # James Choi\\n\\n**Position:** Lead Engineer  \\n**Email:** james.choi@insurellm.com  \\n**Phone:** +82-10-...\",\"Type: employees\\u003cbr\\u003eText: # Ethan Woo\\n\\n**Position:** Senior Data Scientist  \\n**Email:** ethan.woo@insurellm.com  \\n**Phone:** +...\",\"Type: employees\\u003cbr\\u003eText: # Alice Kim\\n\\n**Position:** Chief Executive Officer (CEO)  \\n**Email:** alice.kim@insurellm.com  \\n**Ph...\",\"Type: employees\\u003cbr\\u003eText: # Mina Jung\\n\\n**Position:** Customer Success Manager  \\n**Email:** mina.jung@insurellm.com  \\n**Phone:*...\"],\"x\":{\"dtype\":\"f4\",\"bdata\":\"GuiIwu9Kw0F6Qr5Bf97DQZwFesIjlBtCJWzNQwBzeMMmdhtDomMeQ5PqHkL54s5CJJR+QsqrrMIh1WXCLEUJwzpgA0GDOKbC2cFAwqhk5MI=\"},\"y\":{\"dtype\":\"f4\",\"bdata\":\"VguLwqnq8sFOCAxD9fgSw\\u002faQAcLAcZfB4qpqw+RZfUExGuBCVoPhQkeBF0LIc6vCvlYIwhlkisLOnopC7+HyQWgOzUIUmHZC3CI\\u002fv4LVyUI=\"},\"z\":{\"dtype\":\"f4\",\"bdata\":\"G733wnsYTkPCj4fChLF1QbAOAUO41LlC4ZkPxIyYL0MxrZTAZuyowi2CksJyAmBC+BemQR70XEEWyKnBIUKFwWTal0KkHfjCoQZBQbHrKEI=\"},\"type\":\"scatter3d\"}],                        {\"template\":{\"data\":{\"histogram2dcontour\":[{\"type\":\"histogram2dcontour\",\"colorbar\":{\"outlinewidth\":0,\"ticks\":\"\"},\"colorscale\":[[0.0,\"#0d0887\"],[0.1111111111111111,\"#46039f\"],[0.2222222222222222,\"#7201a8\"],[0.3333333333333333,\"#9c179e\"],[0.4444444444444444,\"#bd3786\"],[0.5555555555555556,\"#d8576b\"],[0.6666666666666666,\"#ed7953\"],[0.7777777777777778,\"#fb9f3a\"],[0.8888888888888888,\"#fdca26\"],[1.0,\"#f0f921\"]]}],\"choropleth\":[{\"type\":\"choropleth\",\"colorbar\":{\"outlinewidth\":0,\"ticks\":\"\"}}],\"histogram2d\":[{\"type\":\"histogram2d\",\"colorbar\":{\"outlinewidth\":0,\"ticks\":\"\"},\"colorscale\":[[0.0,\"#0d0887\"],[0.1111111111111111,\"#46039f\"],[0.2222222222222222,\"#7201a8\"],[0.3333333333333333,\"#9c179e\"],[0.4444444444444444,\"#bd3786\"],[0.5555555555555556,\"#d8576b\"],[0.6666666666666666,\"#ed7953\"],[0.7777777777777778,\"#fb9f3a\"],[0.8888888888888888,\"#fdca26\"],[1.0,\"#f0f921\"]]}],\"heatmap\":[{\"type\":\"heatmap\",\"colorbar\":{\"outlinewidth\":0,\"ticks\":\"\"},\"colorscale\":[[0.0,\"#0d0887\"],[0.1111111111111111,\"#46039f\"],[0.2222222222222222,\"#7201a8\"],[0.3333333333333333,\"#9c179e\"],[0.4444444444444444,\"#bd3786\"],[0.5555555555555556,\"#d8576b\"],[0.6666666666666666,\"#ed7953\"],[0.7777777777777778,\"#fb9f3a\"],[0.8888888888888888,\"#fdca26\"],[1.0,\"#f0f921\"]]}],\"contourcarpet\":[{\"type\":\"contourcarpet\",\"colorbar\":{\"outlinewidth\":0,\"ticks\":\"\"}}],\"contour\":[{\"type\":\"contour\",\"colorbar\":{\"outlinewidth\":0,\"ticks\":\"\"},\"colorscale\":[[0.0,\"#0d0887\"],[0.1111111111111111,\"#46039f\"],[0.2222222222222222,\"#7201a8\"],[0.3333333333333333,\"#9c179e\"],[0.4444444444444444,\"#bd3786\"],[0.5555555555555556,\"#d8576b\"],[0.6666666666666666,\"#ed7953\"],[0.7777777777777778,\"#fb9f3a\"],[0.8888888888888888,\"#fdca26\"],[1.0,\"#f0f921\"]]}],\"surface\":[{\"type\":\"surface\",\"colorbar\":{\"outlinewidth\":0,\"ticks\":\"\"},\"colorscale\":[[0.0,\"#0d0887\"],[0.1111111111111111,\"#46039f\"],[0.2222222222222222,\"#7201a8\"],[0.3333333333333333,\"#9c179e\"],[0.4444444444444444,\"#bd3786\"],[0.5555555555555556,\"#d8576b\"],[0.6666666666666666,\"#ed7953\"],[0.7777777777777778,\"#fb9f3a\"],[0.8888888888888888,\"#fdca26\"],[1.0,\"#f0f921\"]]}],\"mesh3d\":[{\"type\":\"mesh3d\",\"colorbar\":{\"outlinewidth\":0,\"ticks\":\"\"}}],\"scatter\":[{\"fillpattern\":{\"fillmode\":\"overlay\",\"size\":10,\"solidity\":0.2},\"type\":\"scatter\"}],\"parcoords\":[{\"type\":\"parcoords\",\"line\":{\"colorbar\":{\"outlinewidth\":0,\"ticks\":\"\"}}}],\"scatterpolargl\":[{\"type\":\"scatterpolargl\",\"marker\":{\"colorbar\":{\"outlinewidth\":0,\"ticks\":\"\"}}}],\"bar\":[{\"error_x\":{\"color\":\"#2a3f5f\"},\"error_y\":{\"color\":\"#2a3f5f\"},\"marker\":{\"line\":{\"color\":\"#E5ECF6\",\"width\":0.5},\"pattern\":{\"fillmode\":\"overlay\",\"size\":10,\"solidity\":0.2}},\"type\":\"bar\"}],\"scattergeo\":[{\"type\":\"scattergeo\",\"marker\":{\"colorbar\":{\"outlinewidth\":0,\"ticks\":\"\"}}}],\"scatterpolar\":[{\"type\":\"scatterpolar\",\"marker\":{\"colorbar\":{\"outlinewidth\":0,\"ticks\":\"\"}}}],\"histogram\":[{\"marker\":{\"pattern\":{\"fillmode\":\"overlay\",\"size\":10,\"solidity\":0.2}},\"type\":\"histogram\"}],\"scattergl\":[{\"type\":\"scattergl\",\"marker\":{\"colorbar\":{\"outlinewidth\":0,\"ticks\":\"\"}}}],\"scatter3d\":[{\"type\":\"scatter3d\",\"line\":{\"colorbar\":{\"outlinewidth\":0,\"ticks\":\"\"}},\"marker\":{\"colorbar\":{\"outlinewidth\":0,\"ticks\":\"\"}}}],\"scattermap\":[{\"type\":\"scattermap\",\"marker\":{\"colorbar\":{\"outlinewidth\":0,\"ticks\":\"\"}}}],\"scattermapbox\":[{\"type\":\"scattermapbox\",\"marker\":{\"colorbar\":{\"outlinewidth\":0,\"ticks\":\"\"}}}],\"scatterternary\":[{\"type\":\"scatterternary\",\"marker\":{\"colorbar\":{\"outlinewidth\":0,\"ticks\":\"\"}}}],\"scattercarpet\":[{\"type\":\"scattercarpet\",\"marker\":{\"colorbar\":{\"outlinewidth\":0,\"ticks\":\"\"}}}],\"carpet\":[{\"aaxis\":{\"endlinecolor\":\"#2a3f5f\",\"gridcolor\":\"white\",\"linecolor\":\"white\",\"minorgridcolor\":\"white\",\"startlinecolor\":\"#2a3f5f\"},\"baxis\":{\"endlinecolor\":\"#2a3f5f\",\"gridcolor\":\"white\",\"linecolor\":\"white\",\"minorgridcolor\":\"white\",\"startlinecolor\":\"#2a3f5f\"},\"type\":\"carpet\"}],\"table\":[{\"cells\":{\"fill\":{\"color\":\"#EBF0F8\"},\"line\":{\"color\":\"white\"}},\"header\":{\"fill\":{\"color\":\"#C8D4E3\"},\"line\":{\"color\":\"white\"}},\"type\":\"table\"}],\"barpolar\":[{\"marker\":{\"line\":{\"color\":\"#E5ECF6\",\"width\":0.5},\"pattern\":{\"fillmode\":\"overlay\",\"size\":10,\"solidity\":0.2}},\"type\":\"barpolar\"}],\"pie\":[{\"automargin\":true,\"type\":\"pie\"}]},\"layout\":{\"autotypenumbers\":\"strict\",\"colorway\":[\"#636efa\",\"#EF553B\",\"#00cc96\",\"#ab63fa\",\"#FFA15A\",\"#19d3f3\",\"#FF6692\",\"#B6E880\",\"#FF97FF\",\"#FECB52\"],\"font\":{\"color\":\"#2a3f5f\"},\"hovermode\":\"closest\",\"hoverlabel\":{\"align\":\"left\"},\"paper_bgcolor\":\"white\",\"plot_bgcolor\":\"#E5ECF6\",\"polar\":{\"bgcolor\":\"#E5ECF6\",\"angularaxis\":{\"gridcolor\":\"white\",\"linecolor\":\"white\",\"ticks\":\"\"},\"radialaxis\":{\"gridcolor\":\"white\",\"linecolor\":\"white\",\"ticks\":\"\"}},\"ternary\":{\"bgcolor\":\"#E5ECF6\",\"aaxis\":{\"gridcolor\":\"white\",\"linecolor\":\"white\",\"ticks\":\"\"},\"baxis\":{\"gridcolor\":\"white\",\"linecolor\":\"white\",\"ticks\":\"\"},\"caxis\":{\"gridcolor\":\"white\",\"linecolor\":\"white\",\"ticks\":\"\"}},\"coloraxis\":{\"colorbar\":{\"outlinewidth\":0,\"ticks\":\"\"}},\"colorscale\":{\"sequential\":[[0.0,\"#0d0887\"],[0.1111111111111111,\"#46039f\"],[0.2222222222222222,\"#7201a8\"],[0.3333333333333333,\"#9c179e\"],[0.4444444444444444,\"#bd3786\"],[0.5555555555555556,\"#d8576b\"],[0.6666666666666666,\"#ed7953\"],[0.7777777777777778,\"#fb9f3a\"],[0.8888888888888888,\"#fdca26\"],[1.0,\"#f0f921\"]],\"sequentialminus\":[[0.0,\"#0d0887\"],[0.1111111111111111,\"#46039f\"],[0.2222222222222222,\"#7201a8\"],[0.3333333333333333,\"#9c179e\"],[0.4444444444444444,\"#bd3786\"],[0.5555555555555556,\"#d8576b\"],[0.6666666666666666,\"#ed7953\"],[0.7777777777777778,\"#fb9f3a\"],[0.8888888888888888,\"#fdca26\"],[1.0,\"#f0f921\"]],\"diverging\":[[0,\"#8e0152\"],[0.1,\"#c51b7d\"],[0.2,\"#de77ae\"],[0.3,\"#f1b6da\"],[0.4,\"#fde0ef\"],[0.5,\"#f7f7f7\"],[0.6,\"#e6f5d0\"],[0.7,\"#b8e186\"],[0.8,\"#7fbc41\"],[0.9,\"#4d9221\"],[1,\"#276419\"]]},\"xaxis\":{\"gridcolor\":\"white\",\"linecolor\":\"white\",\"ticks\":\"\",\"title\":{\"standoff\":15},\"zerolinecolor\":\"white\",\"automargin\":true,\"zerolinewidth\":2},\"yaxis\":{\"gridcolor\":\"white\",\"linecolor\":\"white\",\"ticks\":\"\",\"title\":{\"standoff\":15},\"zerolinecolor\":\"white\",\"automargin\":true,\"zerolinewidth\":2},\"scene\":{\"xaxis\":{\"backgroundcolor\":\"#E5ECF6\",\"gridcolor\":\"white\",\"linecolor\":\"white\",\"showbackground\":true,\"ticks\":\"\",\"zerolinecolor\":\"white\",\"gridwidth\":2},\"yaxis\":{\"backgroundcolor\":\"#E5ECF6\",\"gridcolor\":\"white\",\"linecolor\":\"white\",\"showbackground\":true,\"ticks\":\"\",\"zerolinecolor\":\"white\",\"gridwidth\":2},\"zaxis\":{\"backgroundcolor\":\"#E5ECF6\",\"gridcolor\":\"white\",\"linecolor\":\"white\",\"showbackground\":true,\"ticks\":\"\",\"zerolinecolor\":\"white\",\"gridwidth\":2}},\"shapedefaults\":{\"line\":{\"color\":\"#2a3f5f\"}},\"annotationdefaults\":{\"arrowcolor\":\"#2a3f5f\",\"arrowhead\":0,\"arrowwidth\":1},\"geo\":{\"bgcolor\":\"white\",\"landcolor\":\"#E5ECF6\",\"subunitcolor\":\"white\",\"showland\":true,\"showlakes\":true,\"lakecolor\":\"white\"},\"title\":{\"x\":0.05},\"mapbox\":{\"style\":\"light\"}}},\"margin\":{\"r\":20,\"b\":10,\"l\":10,\"t\":40},\"title\":{\"text\":\"3D Chroma Vector Store Visualization\"},\"scene\":{\"xaxis\":{\"title\":{\"text\":\"x\"}},\"yaxis\":{\"title\":{\"text\":\"y\"}},\"zaxis\":{\"title\":{\"text\":\"z\"}}},\"width\":900,\"height\":700},                        {\"responsive\": true}                    ).then(function(){\n",
       "                            \n",
       "var gd = document.getElementById('40299c16-7831-4723-adfb-6802b4935034');\n",
       "var x = new MutationObserver(function (mutations, observer) {{\n",
       "        var display = window.getComputedStyle(gd).display;\n",
       "        if (!display || display === 'none') {{\n",
       "            console.log([gd, 'removed!']);\n",
       "            Plotly.purge(gd);\n",
       "            observer.disconnect();\n",
       "        }}\n",
       "}});\n",
       "\n",
       "// Listen for the removal of the full notebook cells\n",
       "var notebookContainer = gd.closest('#notebook-container');\n",
       "if (notebookContainer) {{\n",
       "    x.observe(notebookContainer, {childList: true});\n",
       "}}\n",
       "\n",
       "// Listen for the clearing of the current output cell\n",
       "var outputEl = gd.closest('.output');\n",
       "if (outputEl) {{\n",
       "    x.observe(outputEl, {childList: true});\n",
       "}}\n",
       "\n",
       "                        })                };            </script>        </div>"
      ]
     },
     "metadata": {},
     "output_type": "display_data"
    }
   ],
   "source": [
    "tsne = TSNE(n_components=3, random_state=42, perplexity=5)\n",
    "reduced_vector = tsne.fit_transform(vectors)\n",
    "\n",
    "fig = go.Figure(data=[go.Scatter3d(\n",
    "    x= reduced_vector[:, 0], \n",
    "    y= reduced_vector[:, 1], \n",
    "    z= reduced_vector[:, 2], \n",
    "    mode=\"markers\", \n",
    "    marker=dict(size=5, color=colors, opacity=0.8), \n",
    "    text=[f\"Type: {t}<br>Text: {d[:100]}...\" for t, d in zip(doc_types, documents)], \n",
    "    hoverinfo=\"text\"\n",
    ")]) \n",
    "\n",
    "fig.update_layout(\n",
    "    title=\"3D Chroma Vector Store Visualization\", \n",
    "    scene=dict(xaxis_title=\"x\", yaxis_title=\"y\", zaxis_title=\"z\"), \n",
    "    width=900, \n",
    "    height=700, \n",
    "    margin=dict(r=20, b=10, l=10, t=40)\n",
    ")\n",
    "\n",
    "fig.show()"
   ]
  },
  {
   "cell_type": "code",
   "execution_count": null,
   "id": "c96cf89e-3928-4de7-8701-f57dff618559",
   "metadata": {},
   "outputs": [],
   "source": []
  }
 ],
 "metadata": {
  "kernelspec": {
   "display_name": "Python 3 (ipykernel)",
   "language": "python",
   "name": "python3"
  },
  "language_info": {
   "codemirror_mode": {
    "name": "ipython",
    "version": 3
   },
   "file_extension": ".py",
   "mimetype": "text/x-python",
   "name": "python",
   "nbconvert_exporter": "python",
   "pygments_lexer": "ipython3",
   "version": "3.13.5"
  }
 },
 "nbformat": 4,
 "nbformat_minor": 5
}
