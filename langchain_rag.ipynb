{
 "cells": [
  {
   "cell_type": "code",
   "execution_count": null,
   "id": "809dfc19-6815-43db-82c1-0daf599dd12a",
   "metadata": {},
   "outputs": [],
   "source": [
    "!{sys.executable} -m pip install python-dotenv gradio langchain langchain-community langchain-openai langchain-chroma chromadb scikit-learn numpy plotly"
   ]
  },
  {
   "cell_type": "code",
   "execution_count": 1,
   "id": "befc05a5-26f5-4c3b-945c-8e9b404e4d89",
   "metadata": {},
   "outputs": [],
   "source": [
    "### Basic imports\n",
    "\n",
    "import os \n",
    "from dotenv import load_dotenv\n",
    "import glob \n",
    "import gradio as gr\n",
    "\n",
    "from typing import List"
   ]
  },
  {
   "cell_type": "code",
   "execution_count": 2,
   "id": "989b5f9d-461e-41e7-8464-d7046d92244c",
   "metadata": {},
   "outputs": [],
   "source": [
    "### Langchain, Chroma, plotly \n",
    "from langchain_community.document_loaders import DirectoryLoader, TextLoader\n",
    "from langchain.text_splitter import CharacterTextSplitter\n",
    "from langchain.schema import Document\n",
    "from langchain_openai import OpenAIEmbeddings, ChatOpenAI \n",
    "from langchain_chroma import Chroma \n",
    "import numpy as np \n",
    "from sklearn.manifold import TSNE \n",
    "import plotly.graph_objects as go"
   ]
  },
  {
   "cell_type": "code",
   "execution_count": 3,
   "id": "b26c5d45-7eed-420b-8bc1-bd5dd7c19d42",
   "metadata": {},
   "outputs": [],
   "source": [
    "OPENAI_MODEL_ID  = \"gpt-5-mini\"\n",
    "db_name = \"vector_db\""
   ]
  },
  {
   "cell_type": "code",
   "execution_count": 4,
   "id": "ec7400b1-dca6-4238-ab43-a1fc1a33e6e3",
   "metadata": {},
   "outputs": [],
   "source": [
    "load_dotenv()\n",
    "OPENAI_API_KEY = os.getenv(\"OPENAI_API_KEY\")"
   ]
  },
  {
   "cell_type": "code",
   "execution_count": 5,
   "id": "313eae93-0f44-4e2f-837c-64e4bddd42ca",
   "metadata": {},
   "outputs": [],
   "source": [
    "### Append doc_type on each document \n",
    "### with folder name as the value on each\n",
    "\n",
    "folders: List[str] = glob.glob(\"knowledge-base/*\")\n",
    "\n",
    "documents = []\n",
    "\n",
    "for folder in folders:\n",
    "    folder_name: str = os.path.basename(folder)\n",
    "    loader = DirectoryLoader(\n",
    "        path=folder,\n",
    "        glob=\"**/*.md\",\n",
    "        loader_cls=TextLoader,\n",
    "    )\n",
    "    docs = loader.load()\n",
    "    \n",
    "    for doc in docs:\n",
    "        doc.metadata[\"doc_type\"] = folder_name\n",
    "        documents.append(doc)    \n"
   ]
  },
  {
   "cell_type": "code",
   "execution_count": 6,
   "id": "ec133d61-ffdd-4fa0-a580-e4f08699ba4a",
   "metadata": {},
   "outputs": [
    {
     "data": {
      "text/plain": [
       "17"
      ]
     },
     "execution_count": 6,
     "metadata": {},
     "output_type": "execute_result"
    }
   ],
   "source": [
    "len(documents)"
   ]
  },
  {
   "cell_type": "code",
   "execution_count": 7,
   "id": "1a7159da-7c97-4a3a-b57f-43bf6e9d019c",
   "metadata": {},
   "outputs": [
    {
     "data": {
      "text/plain": [
       "Document(metadata={'source': 'knowledge-base/products/underwriteai.md', 'doc_type': 'products'}, page_content='# UnderwriteAI\\n\\nUnderwriteAI is an intelligent underwriting assistant designed for insurers and reinsurers.\\n\\n## Core Capabilities\\n- Automated risk scoring based on structured + unstructured data\\n- AI-powered document review (applications, medical records, financial statements)\\n- Adaptive pricing models with continuous learning\\n- Compliance-friendly audit trail\\n\\n## Benefits\\n- Faster onboarding of new policies\\n- Consistent risk assessments across underwriters\\n- Improved profitability through accurate pricing\\n\\n**Launch Year:** 2023  \\n**Target Market:** Life insurers, Reinsurers  \\n')"
      ]
     },
     "execution_count": 7,
     "metadata": {},
     "output_type": "execute_result"
    }
   ],
   "source": [
    "documents[2]"
   ]
  },
  {
   "cell_type": "code",
   "execution_count": 8,
   "id": "54ae0bca-a962-4418-8e2b-4c45ed483f2b",
   "metadata": {},
   "outputs": [
    {
     "data": {
      "text/plain": [
       "20"
      ]
     },
     "execution_count": 8,
     "metadata": {},
     "output_type": "execute_result"
    }
   ],
   "source": [
    "text_splitter = CharacterTextSplitter(chunk_size=1000, chunk_overlap=200)\n",
    "chunks = text_splitter.split_documents(documents)\n",
    "len(chunks)"
   ]
  },
  {
   "cell_type": "code",
   "execution_count": 9,
   "id": "dbf98c8e-7465-4b3c-a41c-ad66db10791e",
   "metadata": {},
   "outputs": [
    {
     "data": {
      "text/plain": [
       "Document(metadata={'source': 'knowledge-base/products/underwriteai.md', 'doc_type': 'products'}, page_content='# UnderwriteAI\\n\\nUnderwriteAI is an intelligent underwriting assistant designed for insurers and reinsurers.\\n\\n## Core Capabilities\\n- Automated risk scoring based on structured + unstructured data\\n- AI-powered document review (applications, medical records, financial statements)\\n- Adaptive pricing models with continuous learning\\n- Compliance-friendly audit trail\\n\\n## Benefits\\n- Faster onboarding of new policies\\n- Consistent risk assessments across underwriters\\n- Improved profitability through accurate pricing\\n\\n**Launch Year:** 2023  \\n**Target Market:** Life insurers, Reinsurers')"
      ]
     },
     "execution_count": 9,
     "metadata": {},
     "output_type": "execute_result"
    }
   ],
   "source": [
    "chunks[2]"
   ]
  },
  {
   "cell_type": "code",
   "execution_count": 10,
   "id": "d7fd6334-c1f2-47a3-8512-4a331b040d93",
   "metadata": {},
   "outputs": [
    {
     "name": "stdout",
     "output_type": "stream",
     "text": [
      "Document types found: contracts, employees, products, company\n"
     ]
    }
   ],
   "source": [
    "### Check the number of doc_types \n",
    "doc_type_kinds = set(chunk.metadata[\"doc_type\"] for chunk in chunks)\n",
    "print(f\"Document types found:\", \", \".join(doc_type_kinds))"
   ]
  },
  {
   "cell_type": "code",
   "execution_count": 11,
   "id": "9fb978af-33d8-4f40-92e1-28403ae96dc3",
   "metadata": {},
   "outputs": [
    {
     "name": "stdout",
     "output_type": "stream",
     "text": [
      "Chunk 0: No chunks found.\n",
      "Chunk 1: No chunks found.\n",
      "Chunk 2: page_content='# UnderwriteAI\n",
      "\n",
      "UnderwriteAI is an intelligent underwriting assistant designed for insurers and reinsurers.\n",
      "\n",
      "## Core Capabilities\n",
      "- Automated risk scoring based on structured + unstructured data\n",
      "- AI-powered document review (applications, medical records, financial statements)\n",
      "- Adaptive pricing models with continuous learning\n",
      "- Compliance-friendly audit trail\n",
      "\n",
      "## Benefits\n",
      "- Faster onboarding of new policies\n",
      "- Consistent risk assessments across underwriters\n",
      "- Improved profitability through accurate pricing\n",
      "\n",
      "**Launch Year:** 2023  \n",
      "**Target Market:** Life insurers, Reinsurers' metadata={'source': 'knowledge-base/products/underwriteai.md', 'doc_type': 'products'}\n",
      "Chunk 3: No chunks found.\n",
      "Chunk 4: No chunks found.\n",
      "Chunk 5: No chunks found.\n",
      "Chunk 6: No chunks found.\n",
      "Chunk 7: No chunks found.\n",
      "Chunk 8: No chunks found.\n",
      "Chunk 9: No chunks found.\n",
      "Chunk 10: No chunks found.\n",
      "Chunk 11: No chunks found.\n",
      "Chunk 12: No chunks found.\n",
      "Chunk 13: No chunks found.\n",
      "Chunk 14: No chunks found.\n",
      "Chunk 15: No chunks found.\n",
      "Chunk 16: No chunks found.\n",
      "Chunk 17: No chunks found.\n",
      "Chunk 18: No chunks found.\n",
      "Chunk 19: No chunks found.\n"
     ]
    }
   ],
   "source": [
    "### Check if a text mention match fetches the correcpond documents\n",
    "\n",
    "for i, chunk in enumerate(chunks): \n",
    "    if \"UnderwriteAI\" in chunk.page_content:\n",
    "        print(f\"Chunk {i}: {chunk}\")\n",
    "    else:\n",
    "        print(f\"Chunk {i}: No chunks found.\")"
   ]
  },
  {
   "cell_type": "code",
   "execution_count": 12,
   "id": "1740b1fb-9204-4da0-9195-09094ab98b3a",
   "metadata": {},
   "outputs": [],
   "source": [
    "### Embed (Vectorize) the text chunks\n",
    "embeddings = OpenAIEmbeddings(api_key=OPENAI_API_KEY)"
   ]
  },
  {
   "cell_type": "code",
   "execution_count": 22,
   "id": "ee3ab0e3-7565-4015-bc7b-2e0c335c6d97",
   "metadata": {},
   "outputs": [],
   "source": [
    "### Check if a Chroma Datastore already exists\n",
    "### If so, delete the DB collection to start from scratch \n",
    "\n",
    "if os.path.exists(db_name):\n",
    "    Chroma(\n",
    "        persist_directory=db_name, \n",
    "        embedding_function=embeddings,\n",
    "    ).delete_collection()"
   ]
  },
  {
   "cell_type": "code",
   "execution_count": 23,
   "id": "207e0b12-fc90-4745-b5b1-e211236b4f1a",
   "metadata": {},
   "outputs": [
    {
     "name": "stdout",
     "output_type": "stream",
     "text": [
      "Vectorstore created with 20 documents\n"
     ]
    }
   ],
   "source": [
    "### Create Chroma Database Store \n",
    "\n",
    "vectorstore = Chroma.from_documents(\n",
    "    documents=chunks,\n",
    "    persist_directory=db_name,\n",
    "    embedding=embeddings\n",
    ")\n",
    "\n",
    "### Check the number of embedded data\n",
    "print(f\"Vectorstore created with {vectorstore._collection.count()} documents\")"
   ]
  },
  {
   "cell_type": "code",
   "execution_count": 24,
   "id": "e875aec8-7d4a-4a36-b266-e3665cb6d9e2",
   "metadata": {},
   "outputs": [
    {
     "ename": "NameError",
     "evalue": "name 'dimentions' is not defined",
     "output_type": "error",
     "traceback": [
      "\u001b[31m---------------------------------------------------------------------------\u001b[39m",
      "\u001b[31mNameError\u001b[39m                                 Traceback (most recent call last)",
      "\u001b[36mCell\u001b[39m\u001b[36m \u001b[39m\u001b[32mIn[24]\u001b[39m\u001b[32m, line 7\u001b[39m\n\u001b[32m      4\u001b[39m sample_embedding = collection.get(limit=\u001b[32m1\u001b[39m, include=[\u001b[33m\"\u001b[39m\u001b[33membeddings\u001b[39m\u001b[33m\"\u001b[39m])[\u001b[33m\"\u001b[39m\u001b[33membeddings\u001b[39m\u001b[33m\"\u001b[39m][\u001b[32m0\u001b[39m]\n\u001b[32m      5\u001b[39m dimensions = \u001b[38;5;28mlen\u001b[39m(sample_embedding)\n\u001b[32m----> \u001b[39m\u001b[32m7\u001b[39m \u001b[38;5;28mprint\u001b[39m(\u001b[33mf\u001b[39m\u001b[33m\"\u001b[39m\u001b[33mThe number of dimensions are: \u001b[39m\u001b[33m\"\u001b[39m, \u001b[43mdimentions\u001b[49m)\n\u001b[32m      8\u001b[39m \u001b[38;5;28mprint\u001b[39m(sample_embedding)\n",
      "\u001b[31mNameError\u001b[39m: name 'dimentions' is not defined"
     ]
    }
   ],
   "source": [
    "### Get one vector and find how many demensions it has\n",
    "\n",
    "collection = vectorstore._collection\n",
    "sample_embedding = collection.get(limit=1, include=[\"embeddings\"])[\"embeddings\"][0]\n",
    "dimensions = len(sample_embedding)\n",
    "\n",
    "print(f\"The number of dimensions are: \", dimensions)\n",
    "print(sample_embedding)"
   ]
  },
  {
   "cell_type": "markdown",
   "id": "ebe04f10-7041-4698-b89a-00aaafca500e",
   "metadata": {},
   "source": [
    "## Visualizing the Vector Store\n"
   ]
  },
  {
   "cell_type": "code",
   "execution_count": null,
   "id": "cef2eae3-b7d9-41f2-8f94-8f69816f33fd",
   "metadata": {},
   "outputs": [],
   "source": [
    "### Pre-work\n",
    "\n",
    "result = collection.get(include=[\"embeddings\", \"documents\", \"metadatas\"])\n",
    "vectors = np.array(result[\"embeddings\"])\n",
    "documents = result[\"documents\"]\n",
    "doc_types = [metadata[\"doc_type\"] for metadata in result[\"metadatas\"]]\n",
    "color_map = {\n",
    "    \"products\": \"blue\",\n",
    "    \"employees\": \"green\", \n",
    "    \"contracts\": \"red\", \n",
    "    \"company\": \"orange\"\n",
    "} \n",
    "\n",
    "colors = [color_map[t] for t in doc_types]\n",
    "print(documents)"
   ]
  },
  {
   "cell_type": "code",
   "execution_count": 16,
   "id": "c4323fb2-dfb7-45c4-b5e8-3f36b317f2f9",
   "metadata": {},
   "outputs": [
    {
     "ename": "NameError",
     "evalue": "name 'vectors' is not defined",
     "output_type": "error",
     "traceback": [
      "\u001b[31m---------------------------------------------------------------------------\u001b[39m",
      "\u001b[31mNameError\u001b[39m                                 Traceback (most recent call last)",
      "\u001b[36mCell\u001b[39m\u001b[36m \u001b[39m\u001b[32mIn[16]\u001b[39m\u001b[32m, line 5\u001b[39m\n\u001b[32m      2\u001b[39m pio.renderers.default = \u001b[33m\"\u001b[39m\u001b[33mnotebook_connected\u001b[39m\u001b[33m\"\u001b[39m\n\u001b[32m      4\u001b[39m tsne = TSNE(n_components=\u001b[32m2\u001b[39m, random_state=\u001b[32m42\u001b[39m, perplexity=\u001b[32m5\u001b[39m)\n\u001b[32m----> \u001b[39m\u001b[32m5\u001b[39m reduced_vector = tsne.fit_transform(\u001b[43mvectors\u001b[49m)\n\u001b[32m      7\u001b[39m \u001b[38;5;66;03m### Create a 2D scatter plot\u001b[39;00m\n\u001b[32m      8\u001b[39m fig = go.Figure(data=[go.Scatter(\n\u001b[32m      9\u001b[39m     x=reduced_vector[:, \u001b[32m0\u001b[39m],\n\u001b[32m     10\u001b[39m     y=reduced_vector[:, \u001b[32m1\u001b[39m], \n\u001b[32m   (...)\u001b[39m\u001b[32m     14\u001b[39m     hoverinfo=\u001b[33m\"\u001b[39m\u001b[33mtext\u001b[39m\u001b[33m\"\u001b[39m\n\u001b[32m     15\u001b[39m )])\n",
      "\u001b[31mNameError\u001b[39m: name 'vectors' is not defined"
     ]
    }
   ],
   "source": [
    "import plotly.io as pio\n",
    "pio.renderers.default = \"notebook_connected\"\n",
    "\n",
    "tsne = TSNE(n_components=2, random_state=42, perplexity=5)\n",
    "reduced_vector = tsne.fit_transform(vectors)\n",
    "\n",
    "### Create a 2D scatter plot\n",
    "fig = go.Figure(data=[go.Scatter(\n",
    "    x=reduced_vector[:, 0],\n",
    "    y=reduced_vector[:, 1], \n",
    "    mode=\"markers\", \n",
    "    marker=dict(size=5, color=colors, opacity=0.8), \n",
    "    text=[f\"Type: {t}<br>Text: {d[:100]}...\" for t, d in zip(doc_types, documents)], \n",
    "    hoverinfo=\"text\"\n",
    ")])\n",
    "\n",
    "fig.update_layout(\n",
    "    title=\"2D Chroma Vector Store Visualization\", \n",
    "    xaxis_title=\"x\", \n",
    "    yaxis_title=\"y\", \n",
    "    width=900, \n",
    "    height=700,\n",
    "    margin=dict(r=20, b=10, l=10, t=40) \n",
    ")\n",
    "\n",
    "fig.show()"
   ]
  },
  {
   "cell_type": "markdown",
   "id": "aec0ff46-e5c4-49e9-927a-d0ad03c01b05",
   "metadata": {},
   "source": [
    "## 3D Visualization of Vectors"
   ]
  },
  {
   "cell_type": "code",
   "execution_count": 17,
   "id": "8a340484-4f66-4c4b-9400-c172e5ddcdf4",
   "metadata": {},
   "outputs": [
    {
     "ename": "NameError",
     "evalue": "name 'vectors' is not defined",
     "output_type": "error",
     "traceback": [
      "\u001b[31m---------------------------------------------------------------------------\u001b[39m",
      "\u001b[31mNameError\u001b[39m                                 Traceback (most recent call last)",
      "\u001b[36mCell\u001b[39m\u001b[36m \u001b[39m\u001b[32mIn[17]\u001b[39m\u001b[32m, line 2\u001b[39m\n\u001b[32m      1\u001b[39m tsne = TSNE(n_components=\u001b[32m3\u001b[39m, random_state=\u001b[32m42\u001b[39m, perplexity=\u001b[32m5\u001b[39m)\n\u001b[32m----> \u001b[39m\u001b[32m2\u001b[39m reduced_vector = tsne.fit_transform(\u001b[43mvectors\u001b[49m)\n\u001b[32m      4\u001b[39m fig = go.Figure(data=[go.Scatter3d(\n\u001b[32m      5\u001b[39m     x= reduced_vector[:, \u001b[32m0\u001b[39m], \n\u001b[32m      6\u001b[39m     y= reduced_vector[:, \u001b[32m1\u001b[39m], \n\u001b[32m   (...)\u001b[39m\u001b[32m     11\u001b[39m     hoverinfo=\u001b[33m\"\u001b[39m\u001b[33mtext\u001b[39m\u001b[33m\"\u001b[39m\n\u001b[32m     12\u001b[39m )]) \n\u001b[32m     14\u001b[39m fig.update_layout(\n\u001b[32m     15\u001b[39m     title=\u001b[33m\"\u001b[39m\u001b[33m3D Chroma Vector Store Visualization\u001b[39m\u001b[33m\"\u001b[39m, \n\u001b[32m     16\u001b[39m     scene=\u001b[38;5;28mdict\u001b[39m(xaxis_title=\u001b[33m\"\u001b[39m\u001b[33mx\u001b[39m\u001b[33m\"\u001b[39m, yaxis_title=\u001b[33m\"\u001b[39m\u001b[33my\u001b[39m\u001b[33m\"\u001b[39m, zaxis_title=\u001b[33m\"\u001b[39m\u001b[33mz\u001b[39m\u001b[33m\"\u001b[39m), \n\u001b[32m   (...)\u001b[39m\u001b[32m     19\u001b[39m     margin=\u001b[38;5;28mdict\u001b[39m(r=\u001b[32m20\u001b[39m, b=\u001b[32m10\u001b[39m, l=\u001b[32m10\u001b[39m, t=\u001b[32m40\u001b[39m)\n\u001b[32m     20\u001b[39m )\n",
      "\u001b[31mNameError\u001b[39m: name 'vectors' is not defined"
     ]
    }
   ],
   "source": [
    "tsne = TSNE(n_components=3, random_state=42, perplexity=5)\n",
    "reduced_vector = tsne.fit_transform(vectors)\n",
    "\n",
    "fig = go.Figure(data=[go.Scatter3d(\n",
    "    x= reduced_vector[:, 0], \n",
    "    y= reduced_vector[:, 1], \n",
    "    z= reduced_vector[:, 2], \n",
    "    mode=\"markers\", \n",
    "    marker=dict(size=5, color=colors, opacity=0.8), \n",
    "    text=[f\"Type: {t}<br>Text: {d[:100]}...\" for t, d in zip(doc_types, documents)], \n",
    "    hoverinfo=\"text\"\n",
    ")]) \n",
    "\n",
    "fig.update_layout(\n",
    "    title=\"3D Chroma Vector Store Visualization\", \n",
    "    scene=dict(xaxis_title=\"x\", yaxis_title=\"y\", zaxis_title=\"z\"), \n",
    "    width=900, \n",
    "    height=700, \n",
    "    margin=dict(r=20, b=10, l=10, t=40)\n",
    ")\n",
    "\n",
    "fig.show()"
   ]
  },
  {
   "cell_type": "code",
   "execution_count": null,
   "id": "c96cf89e-3928-4de7-8701-f57dff618559",
   "metadata": {},
   "outputs": [],
   "source": []
  }
 ],
 "metadata": {
  "kernelspec": {
   "display_name": "Python 3 (ipykernel)",
   "language": "python",
   "name": "python3"
  },
  "language_info": {
   "codemirror_mode": {
    "name": "ipython",
    "version": 3
   },
   "file_extension": ".py",
   "mimetype": "text/x-python",
   "name": "python",
   "nbconvert_exporter": "python",
   "pygments_lexer": "ipython3",
   "version": "3.13.5"
  }
 },
 "nbformat": 4,
 "nbformat_minor": 5
}
